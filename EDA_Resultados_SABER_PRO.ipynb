{
 "cells": [
  {
   "cell_type": "markdown",
   "metadata": {
    "application/vnd.databricks.v1+cell": {
     "cellMetadata": {
      "byteLimit": 2048000,
      "rowLimit": 10000
     },
     "inputWidgets": {},
     "nuid": "87c38c55-521c-4970-98c7-79cf41c0757e",
     "showTitle": false,
     "title": ""
    }
   },
   "source": [
    "<p style = 'text-align:left;'>\n",
    "<img src=\"https://upload.wikimedia.org/wikipedia/commons/thumb/6/6c/Javeriana.svg/1200px-Javeriana.svg.png\" height=\"200\" width=\"300\">\n",
    "</p>\n",
    "\n",
    "<h1>Parcail 2 - Procesamiento de datos a gran escala</h1>\n",
    "\n",
    "<h2>Fecha: 14/05/2024</h2>\n",
    "\n",
    "\n",
    "<h4>Programas</h4>\n",
    "<h5>Ciencia de datos e Ingeniería de Sistemas</h5>\n",
    "\n",
    "<h4>Integrantes</h4>\n",
    "<p>Santiago Botero Pacheco</p>\n",
    "<p>Santiago Avilés Tibocha</p>\n"
   ]
  },
  {
   "cell_type": "markdown",
   "metadata": {
    "application/vnd.databricks.v1+cell": {
     "cellMetadata": {
      "byteLimit": 2048000,
      "rowLimit": 10000
     },
     "inputWidgets": {},
     "nuid": "69d917ed-b8a5-4e02-aebc-01d1fb03f958",
     "showTitle": false,
     "title": ""
    }
   },
   "source": [
    "## Contexto de Dataset (Entendimiento de los datos)\n",
    "\n",
    "En Colombia uno de los exámenes estandarizados mas importantes es el SABER-PRO, esta es una prueba que todo estudiante que tenga educación superior debe presentar como requisito de grado. Principalmente “es un instrumento de evaluación estandarizada para la medición externa de la calidad de la educación superior que evalúa las competencias de los estudiantes que están próximos a culminar los distintos programas profesionales universitarios.” (Acerca del examen Saber Pro, s/f)\n",
    "\n",
    "El examen como tal se presenta en un día especificado por el estado, este se divide en dos jornadas, en las cuales el estudiante debe presentar ciertos módulos.  El examen “está compuesto por un grupo de competencias genéricas y otro de específicas. El primer conjunto evalúa cinco módulos genéricos: Lectura Crítica, Razonamiento Cuantitativo, Competencias Ciudadanas, Comunicación Escrita e Inglés. El segundo grupo está compuesto por módulos asociados a temáticas y contenidos específicos que los estudiantes pueden presentar de acuerdo con su área de formación”. (Acerca del examen Saber Pro, s/f)\n",
    "\n",
    "Los datos presentados a continuación son los resultados individuales de cada estudiante en la prueba ateriormente descrita para los años 2018 a 2022 (Con ultima actualización el 2024). \n",
    "\n",
    "URL del dataset: https://www.datos.gov.co/Educaci-n/Resultados-nicos-Saber-Pro/u37r-hjmu/about_data\n",
    "\n",
    "\n",
    "\n",
    "\n",
    "### Referencias Usadas\n",
    "\n",
    "*Acerca del examen Saber Pro. (s/f). Icfes. Recuperado el 13 de mayo de 2024, de https://www.icfes.gov.co/acerca-del-examen-saber-pro*\n",
    "\n"
   ]
  },
  {
   "cell_type": "markdown",
   "metadata": {
    "application/vnd.databricks.v1+cell": {
     "cellMetadata": {
      "byteLimit": 2048000,
      "rowLimit": 10000
     },
     "inputWidgets": {},
     "nuid": "c24b6d92-fadb-4bf9-b670-f9bb2853afb4",
     "showTitle": false,
     "title": ""
    }
   },
   "source": [
    "## Creación del entorno de trabajo (Pyspark y Python)"
   ]
  },
  {
   "cell_type": "code",
   "execution_count": null,
   "metadata": {
    "application/vnd.databricks.v1+cell": {
     "cellMetadata": {
      "byteLimit": 2048000,
      "rowLimit": 10000
     },
     "inputWidgets": {},
     "nuid": "d2e24c0b-23a6-40fd-b3ed-ab683ae511ca",
     "showTitle": false,
     "title": ""
    }
   },
   "outputs": [],
   "source": [
    "#Importar bibliotecas para la exploración\n",
    "import pandas as pd\n",
    "import pyspark\n",
    "from pyspark import SparkContext\n",
    "from pyspark.sql import *\n",
    "from pyspark.sql.functions import *\n",
    "from pyspark.sql.types import *\n",
    "import json\n",
    "import seaborn as sns\n",
    "import matplotlib.pyplot as plt"
   ]
  },
  {
   "cell_type": "code",
   "execution_count": null,
   "metadata": {
    "application/vnd.databricks.v1+cell": {
     "cellMetadata": {
      "byteLimit": 2048000,
      "rowLimit": 10000
     },
     "inputWidgets": {},
     "nuid": "2f08dd75-37f3-466a-aa54-e95c52138943",
     "showTitle": false,
     "title": ""
    }
   },
   "outputs": [],
   "source": [
    "#Crear el contexto de Pyspark para utilización de sus funciones\n",
    "spark = SparkContext.getOrCreate()\n",
    "spark = SparkSession.builder.appName(\"Proyecto1\").getOrCreate()\n",
    "\n",
    "sc = SparkContext.getOrCreate()\n",
    "sql_c = SQLContext(sc)\n",
    "sc"
   ]
  },
  {
   "cell_type": "markdown",
   "metadata": {
    "application/vnd.databricks.v1+cell": {
     "cellMetadata": {
      "byteLimit": 2048000,
      "rowLimit": 10000
     },
     "inputWidgets": {},
     "nuid": "a02f072f-3189-400a-984e-3e2c60b5a2d7",
     "showTitle": false,
     "title": ""
    }
   },
   "source": [
    "## Descargar los datos\n"
   ]
  },
  {
   "cell_type": "code",
   "execution_count": null,
   "metadata": {
    "application/vnd.databricks.v1+cell": {
     "cellMetadata": {
      "byteLimit": 2048000,
      "rowLimit": 10000
     },
     "inputWidgets": {},
     "nuid": "4efefa89-6b25-4b9f-aa62-6cebcc4cfb70",
     "showTitle": false,
     "title": ""
    }
   },
   "outputs": [],
   "source": [
    "pandas_general = None\n",
    "for i in range(1, 28):\n",
    "    base_url = f\"https://raw.githubusercontent.com/Aviles17/Tecnologia-SABERPRO/main/data/SABER-PRO/Resultados__nicos_Saber_Pro_20240513-{i}.csv\"\n",
    "    df_temp  = pd.read_csv(base_url)\n",
    "    if pandas_general is None:\n",
    "        pandas_general = df_temp\n",
    "    else:\n",
    "        pandas_general = pd.concat([pandas_general, df_temp], ignore_index=True)\n",
    "\n",
    "\n",
    "pandas_general.head(5)\n"
   ]
  },
  {
   "cell_type": "code",
   "execution_count": null,
   "metadata": {
    "application/vnd.databricks.v1+cell": {
     "cellMetadata": {
      "byteLimit": 2048000,
      "rowLimit": 10000
     },
     "inputWidgets": {},
     "nuid": "73b6045e-4f9d-497b-a4b9-80993ab1b2a1",
     "showTitle": false,
     "title": ""
    }
   },
   "outputs": [],
   "source": [
    "df_resultados_pro = sql_c.createDataFrame(pandas_general) #Convertir a PySpark\n",
    "display(df_resultados_pro)"
   ]
  },
  {
   "cell_type": "markdown",
   "metadata": {
    "application/vnd.databricks.v1+cell": {
     "cellMetadata": {
      "byteLimit": 2048000,
      "rowLimit": 10000
     },
     "inputWidgets": {},
     "nuid": "606fd411-6bae-4cb6-bcf4-428db2b62fff",
     "showTitle": false,
     "title": ""
    }
   },
   "source": [
    "## Exploración de los datos entregados (EDA)"
   ]
  },
  {
   "cell_type": "markdown",
   "metadata": {
    "application/vnd.databricks.v1+cell": {
     "cellMetadata": {
      "byteLimit": 2048000,
      "rowLimit": 10000
     },
     "inputWidgets": {},
     "nuid": "7a90cefe-ef5d-417e-8a77-0d22bc12054e",
     "showTitle": false,
     "title": ""
    }
   },
   "source": [
    "### Schema y Diccionario de datos"
   ]
  },
  {
   "cell_type": "code",
   "execution_count": null,
   "metadata": {
    "application/vnd.databricks.v1+cell": {
     "cellMetadata": {
      "byteLimit": 2048000,
      "rowLimit": 10000
     },
     "inputWidgets": {},
     "nuid": "a6a283db-8852-4f14-8408-24a9bd8039c5",
     "showTitle": false,
     "title": ""
    }
   },
   "outputs": [],
   "source": [
    "#Columnas existentes en el dataset\n",
    "df_resultados_pro.printSchema()"
   ]
  },
  {
   "cell_type": "code",
   "execution_count": null,
   "metadata": {
    "application/vnd.databricks.v1+cell": {
     "cellMetadata": {
      "byteLimit": 2048000,
      "rowLimit": 10000
     },
     "inputWidgets": {},
     "nuid": "c08c36d7-e697-4aa1-81f0-cee4c72e668a",
     "showTitle": false,
     "title": ""
    }
   },
   "outputs": [],
   "source": [
    "#Tipo de datos existentes en el dataset\n",
    "df_resultados_pro.dtypes"
   ]
  },
  {
   "cell_type": "markdown",
   "metadata": {
    "application/vnd.databricks.v1+cell": {
     "cellMetadata": {
      "byteLimit": 2048000,
      "rowLimit": 10000
     },
     "inputWidgets": {},
     "nuid": "0c804985-935c-4182-af6a-ebd1a4ad07d5",
     "showTitle": false,
     "title": ""
    }
   },
   "source": [
    "#### Diccionario de Datos\n",
    "\n",
    "| Campo | Tipo | Nullable | Descripción |\n",
    "| --- | --- | --- | --- |\n",
    "| PERIODO | bigint | True | Periodo académico |\n",
    "| ESTU_CONSECUTIVO | string | True | Consecutivo del estudiante |\n",
    "| ESTU_TIPODOCUMENTO | string | True | Tipo de documento del estudiante |\n",
    "| ESTU_PAIS_RESIDE | string | True | País de residencia del estudiante |\n",
    "| ESTU_COD_RESIDE_DEPTO | double | True | Código del departamento de residencia del estudiante |\n",
    "| ESTU_DEPTO_RESIDE | string | True | Departamento de residencia del estudiante |\n",
    "| ESTU_COD_RESIDE_MCPIO | double | True | Código del municipio de residencia del estudiante |\n",
    "| ESTU_MCPIO_RESIDE | string | True | Municipio de residencia del estudiante |\n",
    "| ESTU_CODDANE_COLE_TERMINO | double | True | Código DANE del colegio de terminación del estudiante |\n",
    "| ESTU_COD_COLE_MCPIO_TERMINO | double | True | Código del municipio del colegio de terminación del estudiante |\n",
    "| ESTU_COD_DEPTO_PRESENTACION | double | True | Código del departamento de presentación del estudiante |\n",
    "| INST_COD_INSTITUCION | bigint | True | Código de la institución |\n",
    "| INST_NOMBRE_INSTITUCION | string | True | Nombre de la institución |\n",
    "| INST_CARACTER_ACADEMICO | string | True | Carácter académico de la institución |\n",
    "| ESTU_NUCLEO_PREGRADO | string | True | Núcleo de pregrado del estudiante |\n",
    "| ESTU_INST_DEPARTAMENTO | string | True | Departamento de la institución del estudiante |\n",
    "| ESTU_INST_CODMUNICIPIO | bigint | True | Código del municipio de la institución del estudiante |\n",
    "| ESTU_INST_MUNICIPIO | string | True | Municipio de la institución del estudiante |\n",
    "| ESTU_PRGM_ACADEMICO | string | True | Programa académico del estudiante |\n",
    "| ESTU_PRGM_DEPARTAMENTO | string | True | Departamento del programa académico del estudiante |\n",
    "| ESTU_PRGM_CODMUNICIPIO | bigint | True | Código del municipio del programa académico del estudiante |\n",
    "| ESTU_PRGM_MUNICIPIO | string | True | Municipio del programa académico del estudiante |\n",
    "| ESTU_NIVEL_PRGM_ACADEMICO | string | True | Nivel del programa académico del estudiante |\n",
    "| ESTU_METODO_PRGM | string | True | Método del programa académico del estudiante |\n",
    "| ESTU_VALORMATRICULAUNIVERSIDAD | string | True | Valor de la matrícula de la universidad del estudiante |\n",
    "| ESTU_DEPTO_PRESENTACION | string | True | Departamento de presentación del estudiante |\n",
    "| ESTU_COD_MCPIO_PRESENTACION | double | True | Código del municipio de presentación del estudiante |\n",
    "| ESTU_MCPIO_PRESENTACION | string | True | Municipio de presentación del estudiante |\n",
    "| ESTU_PAGOMATRICULABECA | string | True | Pago de matrícula con beca del estudiante |\n",
    "| ESTU_PAGOMATRICULACREDITO | string | True | Pago de matrícula con crédito del estudiante |\n",
    "| ESTU_HORASSEMANATRABAJA | string | True | Horas semanales que trabaja el estudiante |\n",
    "| ESTU_SNIES_PRGMACADEMICO | double | True | Código SNIES del programa académico del estudiante |\n",
    "| ESTU_PRIVADO_LIBERTAD | string | True | Indica si el estudiante está privado de la libertad |\n",
    "| ESTU_NACIONALIDAD | string | True | Nacionalidad del estudiante |\n",
    "| ESTU_ESTUDIANTE | string | True | Indica si el estudiante es estudiante |\n",
    "| ESTU_GENERO | string | True | Género del estudiante |\n",
    "| ESTU_COLE_TERMINO | string | True | Colegio de terminación del estudiante |\n",
    "| ESTU_PAGOMATRICULAPADRES | string | True | Pago de matrícula con recursos de los padres del estudiante |\n",
    "| ESTU_ESTADOINVESTIGACION | string | True | Estado de investigación del estudiante |\n",
    "| ESTU_FECHANACIMIENTO | string | True | Fecha de nacimiento del estudiante |\n",
    "| ESTU_PAGOMATRICULAPROPIO | string | True | Pago de matrícula con recursos propios del estudiante |\n",
    "| ESTU_TIPODOCUMENTOSB11 | string | True | Tipo de documento del estudiante (SB11) |\n",
    "| FAMI_EDUCACIONPADRE | string | True | Nivel de educación del padre del estudiante |\n",
    "| FAMI_TIENEAUTOMOVIL | string | True | Indica si la familia del estudiante tiene automóvil |\n",
    "| FAMI_TIENELAVADORA | string | True | Indica si la familia del estudiante tiene lavadora |\n",
    "| FAMI_ESTRATOVIVIENDA | string | True | Estrato de la vivienda del estudiante |\n",
    "| FAMI_TIENECOMPUTADOR | string | True | Indica si la familia del estudiante tiene computador |\n",
    "| FAMI_TIENEINTERNET | string | True | Indica si la familia del estudiante tiene internet |\n",
    "| FAMI_EDUCACIONMADRE | string | True | Nivel de educación de la madre del estudiante |\n",
    "| INST_ORIGEN | string | True | Origen de la institución |\n",
    "| MOD_RAZONA_CUANTITAT_PUNT | bigint | True | Puntaje de la módulo de razonamiento cuantitativo |\n",
    "| MOD_COMUNI_ESCRITA_PUNT | double | True | Puntaje de la módulo de comunicación escrita |\n",
    "| MOD_COMUNI_ESCRITA_DESEM | double | True | Desempeño de la módulo de comunicación escrita |\n",
    "| MOD_INGLES_DESEM | string | True | Desempeño de la módulo de inglés |\n",
    "| MOD_LECTURA_CRITICA_PUNT | bigint | True | Puntaje de la módulo de lectura crítica |\n",
    "| MOD_INGLES_PUNT | double | True | Puntaje de la módulo de inglés |\n",
    "| MOD_COMPETEN_CIUDADA_PUNT | bigint | True | Puntaje de la módulo de competencias ciudadanas |"
   ]
  },
  {
   "cell_type": "markdown",
   "metadata": {
    "application/vnd.databricks.v1+cell": {
     "cellMetadata": {
      "byteLimit": 2048000,
      "rowLimit": 10000
     },
     "inputWidgets": {},
     "nuid": "2e42760b-1e12-4184-ad97-4ab5a27f599e",
     "showTitle": false,
     "title": ""
    }
   },
   "source": [
    "Teniendo en consideración los datos adquiridos y el objetivo de este estudio, se decidio eliminar ciertas columnas que parecen ser inecesarias, ya que o no van al punto del estudio, o simplemente presentan información redundante. Tambien hay algunas columnas que pueden o no ser relevantes dependiendo de los datos que tengan como es el caso de la columna *ESTU_PRIVADO_LIBERTAD*"
   ]
  },
  {
   "cell_type": "code",
   "execution_count": null,
   "metadata": {
    "application/vnd.databricks.v1+cell": {
     "cellMetadata": {
      "byteLimit": 2048000,
      "rowLimit": 10000
     },
     "inputWidgets": {},
     "nuid": "5d4fe513-38c3-4173-8194-2615ab5054bb",
     "showTitle": false,
     "title": ""
    }
   },
   "outputs": [],
   "source": [
    "#Seleccionar columnas utiles\n",
    "cols = [\"PERIODO\", \"ESTU_PAIS_RESIDE\", \"ESTU_COD_RESIDE_DEPTO\", \"ESTU_COD_RESIDE_MCPIO\",\"ESTU_NUCLEO_PREGRADO\", \"ESTU_PRGM_ACADEMICO\", \"ESTU_NIVEL_PRGM_ACADEMICO\", \"ESTU_METODO_PRGM\", \"ESTU_HORASSEMANATRABAJA\",\"ESTU_PRIVADO_LIBERTAD\", \"ESTU_GENERO\",\"FAMI_EDUCACIONPADRE\", \"FAMI_ESTRATOVIVIENDA\", \"FAMI_TIENECOMPUTADOR\", \"FAMI_TIENEINTERNET\", \"FAMI_EDUCACIONMADRE\", \"MOD_RAZONA_CUANTITAT_PUNT\", \"MOD_COMUNI_ESCRITA_PUNT\", \"MOD_COMUNI_ESCRITA_DESEM\", \"MOD_LECTURA_CRITICA_PUNT\", \"MOD_INGLES_PUNT\", \"MOD_COMPETEN_CIUDADA_PUNT\"]\n",
    "df_resultados = df_resultados_pro.select(cols)"
   ]
  },
  {
   "cell_type": "markdown",
   "metadata": {
    "application/vnd.databricks.v1+cell": {
     "cellMetadata": {
      "byteLimit": 2048000,
      "rowLimit": 10000
     },
     "inputWidgets": {},
     "nuid": "a62debf1-557d-4d21-8265-701b8093dc06",
     "showTitle": false,
     "title": ""
    }
   },
   "source": [
    "### Estadisticos Basicos por columna"
   ]
  },
  {
   "cell_type": "code",
   "execution_count": null,
   "metadata": {
    "application/vnd.databricks.v1+cell": {
     "cellMetadata": {
      "byteLimit": 2048000,
      "rowLimit": 10000
     },
     "inputWidgets": {},
     "nuid": "7dc12814-1bf0-435f-a461-eedd358e92dc",
     "showTitle": false,
     "title": ""
    }
   },
   "outputs": [],
   "source": [
    "#Estadisticos importantes por cada columna del dataset\n",
    "display(df_resultados.describe())"
   ]
  },
  {
   "cell_type": "markdown",
   "metadata": {
    "application/vnd.databricks.v1+cell": {
     "cellMetadata": {
      "byteLimit": 2048000,
      "rowLimit": 10000
     },
     "inputWidgets": {},
     "nuid": "15a775a2-a71c-4e51-ac7a-924bbf6ca994",
     "showTitle": false,
     "title": ""
    }
   },
   "source": [
    "Se puede conlcuir que existen variables tanto numericas como de tipo string. Por parte de las numericas podemos observar los estadisticos mas generales (media, desviación estandar, maximos y minimos). Por otro lado, gracias a la cuenta de los datos podemos concluir que existen valores nulos o faltantes"
   ]
  },
  {
   "cell_type": "markdown",
   "metadata": {
    "application/vnd.databricks.v1+cell": {
     "cellMetadata": {
      "byteLimit": 2048000,
      "rowLimit": 10000
     },
     "inputWidgets": {},
     "nuid": "c7b1e42a-3fcb-4af7-a8d3-2fa2eb1dda5a",
     "showTitle": false,
     "title": ""
    }
   },
   "source": [
    "### Graficos por columna"
   ]
  },
  {
   "cell_type": "code",
   "execution_count": null,
   "metadata": {
    "application/vnd.databricks.v1+cell": {
     "cellMetadata": {
      "byteLimit": 2048000,
      "rowLimit": 10000
     },
     "inputWidgets": {},
     "nuid": "b5af8d6f-037f-4d30-bb1c-953d887aa456",
     "showTitle": false,
     "title": ""
    }
   },
   "outputs": [],
   "source": [
    "#Crear filtro por tipo de datos para correcta visualización\n",
    "\n",
    "#Filtro por columna numerica\n",
    "numeric_cols = [col for col, dtype in df_resultados.dtypes if dtype in ['int', 'long', 'float', 'double', 'bigint']]\n",
    "df_numeric = df_resultados.select(numeric_cols)\n",
    "\n",
    "# Filtro por columna tipo string\n",
    "string_cols = [col for col, dtype in df_resultados.dtypes if dtype == 'string']\n",
    "df_string = df_resultados.select(string_cols)\n",
    "\n",
    "df_numeric.createOrReplaceTempView(\"data_num\")\n",
    "df_string.createOrReplaceTempView(\"data_string\")"
   ]
  },
  {
   "cell_type": "markdown",
   "metadata": {
    "application/vnd.databricks.v1+cell": {
     "cellMetadata": {
      "byteLimit": 2048000,
      "rowLimit": 10000
     },
     "inputWidgets": {},
     "nuid": "9ac4a108-26bf-4ec0-a666-4c4b61f24c73",
     "showTitle": false,
     "title": ""
    }
   },
   "source": [
    "#### Histogramas Generales con Pandas "
   ]
  },
  {
   "cell_type": "code",
   "execution_count": null,
   "metadata": {
    "application/vnd.databricks.v1+cell": {
     "cellMetadata": {
      "byteLimit": 2048000,
      "rowLimit": 10000
     },
     "inputWidgets": {},
     "nuid": "27fa2dd0-26ac-4f40-8de6-cf9291ac2a96",
     "showTitle": false,
     "title": ""
    }
   },
   "outputs": [],
   "source": [
    "#Visualizacion General con Pandas (Histogramas)\n",
    "numeric_cols = [col for col, dtype in df_resultados.dtypes if dtype in ['int', 'long', 'float', 'double', 'bigint']]\n",
    "df_numeric_pd = df_resultados.select(numeric_cols).toPandas()\n",
    "\n",
    "num_cols = 2  # Number of columns for the continuous variables plots\n",
    "num_rows = (len(numeric_cols) + num_cols - 1) // num_cols  # Calculate the number of rows needed\n",
    "\n",
    "fig, axes = plt.subplots(num_rows, num_cols, figsize=(15, 5*num_rows))\n",
    "axes = axes.ravel()\n",
    "\n",
    "for i, col in enumerate(df_numeric_pd.columns):\n",
    "    sns.histplot(data=df_numeric_pd, x=col, ax=axes[i])\n",
    "    axes[i].set_title(col)\n",
    "\n",
    "plt.tight_layout()\n",
    "plt.show()"
   ]
  },
  {
   "cell_type": "markdown",
   "metadata": {
    "application/vnd.databricks.v1+cell": {
     "cellMetadata": {},
     "inputWidgets": {},
     "nuid": "e5cd8c87-1065-41b9-9a59-0f2451452a52",
     "showTitle": false,
     "title": ""
    }
   },
   "source": [
    "- Se puede observar que la columna *ESTU_COD_RESIDE_DEPTO* tiene muy pocos datos, por lo que se recomienda eliminarla\n",
    "\n",
    "- Las columnas con la puntación tienen una disperción normal, aunque existen varios datos atipicos, en cuanto a distribución se habla, se recomienda hacer graficos de caja para revisar estos.\n",
    "- La columna *MOD_COMUNI_ESCRITA_DESEM* es redundante\n"
   ]
  },
  {
   "cell_type": "markdown",
   "metadata": {
    "application/vnd.databricks.v1+cell": {
     "cellMetadata": {
      "byteLimit": 2048000,
      "rowLimit": 10000
     },
     "inputWidgets": {},
     "nuid": "cc1467bb-96f7-47ed-a89c-353af12d1bc4",
     "showTitle": false,
     "title": ""
    }
   },
   "source": [
    "#### Diagramas de barras Generales"
   ]
  },
  {
   "cell_type": "code",
   "execution_count": null,
   "metadata": {
    "application/vnd.databricks.v1+cell": {
     "cellMetadata": {
      "byteLimit": 2048000,
      "implicitDf": true,
      "rowLimit": 10000
     },
     "inputWidgets": {},
     "nuid": "f32d98f4-4354-46c2-9624-9a948fceb94c",
     "showTitle": false,
     "title": ""
    }
   },
   "outputs": [],
   "source": [
    "%sql\n",
    "select * from data_string"
   ]
  },
  {
   "cell_type": "markdown",
   "metadata": {
    "application/vnd.databricks.v1+cell": {
     "cellMetadata": {},
     "inputWidgets": {},
     "nuid": "ea805ef8-5a5f-4321-b3ae-5ae863452da3",
     "showTitle": false,
     "title": ""
    }
   },
   "source": [
    "-  Las columnas *ESTU_PRIVADO_LIBERTAD* (Esta tiene dos pero la otra es demasiado pequeña, con 66 registros) y *ESTU_NIVEL_PRGM_ACADEMICO* no tienen información relevante ya que solo tienen una categoria, se recomienda borrar registros que pueden generar ruido y subsecuentemente las columnas\n",
    "\n",
    "- En las columnas *FAMI_EDUCACIONPADRE* y *FAMI_EDUCACIONMADRE* hay datos nulos que no estan marcados como nulos (No aplica, No sabe)"
   ]
  },
  {
   "cell_type": "markdown",
   "metadata": {
    "application/vnd.databricks.v1+cell": {
     "cellMetadata": {
      "byteLimit": 2048000,
      "rowLimit": 10000
     },
     "inputWidgets": {},
     "nuid": "37b05e26-e617-4e6f-943e-c719c525a41f",
     "showTitle": false,
     "title": ""
    }
   },
   "source": [
    "#### Graficas Relacionadas con Pyspark"
   ]
  },
  {
   "cell_type": "code",
   "execution_count": null,
   "metadata": {
    "application/vnd.databricks.v1+cell": {
     "cellMetadata": {
      "byteLimit": 2048000,
      "implicitDf": true,
      "rowLimit": 10000
     },
     "inputWidgets": {},
     "nuid": "ddbfa1c2-eecb-456f-a2ab-0e22cbf73696",
     "showTitle": false,
     "title": ""
    }
   },
   "outputs": [],
   "source": [
    "%sql\n",
    "--Graficas de dispersion en desempeño por modulo\n",
    "select PERIODO, MOD_RAZONA_CUANTITAT_PUNT, MOD_COMUNI_ESCRITA_PUNT, MOD_LECTURA_CRITICA_PUNT, MOD_INGLES_PUNT, MOD_COMPETEN_CIUDADA_PUNT from data_num"
   ]
  },
  {
   "cell_type": "markdown",
   "metadata": {
    "application/vnd.databricks.v1+cell": {
     "cellMetadata": {},
     "inputWidgets": {},
     "nuid": "7851d613-52a0-4c24-a256-d1d4aba92ae5",
     "showTitle": false,
     "title": ""
    }
   },
   "source": [
    "- Se puede observar que el periodo 2019-6 no tiene datos, por ende es mejor eliminar todo registro de este.\n",
    "- Los datos atipicos son siempre 0 o 300. Se sabe por contexto que es posible tener una nota perfecta de 300, sin embargo una nota de 0 es imposible (Si se presenta la prueba), por ende se debe buscar como tratar la nota 0\n",
    "- Se recomienda convertir los periodos a años"
   ]
  },
  {
   "cell_type": "code",
   "execution_count": null,
   "metadata": {
    "application/vnd.databricks.v1+cell": {
     "cellMetadata": {
      "byteLimit": 2048000,
      "implicitDf": true,
      "rowLimit": 10000
     },
     "inputWidgets": {},
     "nuid": "e6babc62-4b70-4079-946f-445b3bed30c0",
     "showTitle": false,
     "title": ""
    }
   },
   "outputs": [],
   "source": [
    "%sql\n",
    "select FAMI_TIENECOMPUTADOR, FAMI_TIENEINTERNET, FAMI_EDUCACIONMADRE, FAMI_EDUCACIONPADRE, ESTU_HORASSEMANATRABAJA from data_string"
   ]
  },
  {
   "cell_type": "markdown",
   "metadata": {
    "application/vnd.databricks.v1+cell": {
     "cellMetadata": {},
     "inputWidgets": {},
     "nuid": "c7818ff4-f328-43a9-8a1e-0c9d4762d27c",
     "showTitle": false,
     "title": ""
    }
   },
   "source": [
    "## Transformaciones Preliminares"
   ]
  },
  {
   "cell_type": "code",
   "execution_count": null,
   "metadata": {
    "application/vnd.databricks.v1+cell": {
     "cellMetadata": {
      "byteLimit": 2048000,
      "rowLimit": 10000
     },
     "inputWidgets": {},
     "nuid": "c592fb4b-bf6b-4c0c-a20b-47d2810c3467",
     "showTitle": false,
     "title": ""
    }
   },
   "outputs": [],
   "source": [
    "#Eliminar columnas redundante o sin informacion (Con sus registros)\n",
    "cols = [\"PERIODO\", \"ESTU_PAIS_RESIDE\", \"ESTU_COD_RESIDE_MCPIO\",\"ESTU_NUCLEO_PREGRADO\", \"ESTU_PRGM_ACADEMICO\", \"ESTU_METODO_PRGM\", \"ESTU_HORASSEMANATRABAJA\",\"ESTU_PRIVADO_LIBERTAD\", \"ESTU_GENERO\",\"FAMI_EDUCACIONPADRE\", \"FAMI_ESTRATOVIVIENDA\", \"FAMI_TIENECOMPUTADOR\", \"FAMI_TIENEINTERNET\", \"FAMI_EDUCACIONMADRE\", \"MOD_RAZONA_CUANTITAT_PUNT\", \"MOD_COMUNI_ESCRITA_PUNT\", \"MOD_LECTURA_CRITICA_PUNT\", \"MOD_INGLES_PUNT\", \"MOD_COMPETEN_CIUDADA_PUNT\"]\n",
    "df_resultados_limp_1 = df_resultados.select(cols)\n",
    "display(df_resultados_limp_1)"
   ]
  },
  {
   "cell_type": "code",
   "execution_count": null,
   "metadata": {
    "application/vnd.databricks.v1+cell": {
     "cellMetadata": {
      "byteLimit": 2048000,
      "rowLimit": 10000
     },
     "inputWidgets": {},
     "nuid": "852379aa-5b56-450b-b419-a68cea5bdfd4",
     "showTitle": false,
     "title": ""
    }
   },
   "outputs": [],
   "source": [
    "#Eliminar registros de estudiantes privados de la libertad y la columna \n",
    "df_filtered = df_resultados_limp_1.filter(df_resultados_limp_1['ESTU_PRIVADO_LIBERTAD'] != 'S')\n",
    "df_resultados_limp_2 = df_filtered.drop('ESTU_PRIVADO_LIBERTAD')\n",
    "display(df_resultados_limp_2)"
   ]
  },
  {
   "cell_type": "code",
   "execution_count": null,
   "metadata": {
    "application/vnd.databricks.v1+cell": {
     "cellMetadata": {
      "byteLimit": 2048000,
      "rowLimit": 10000
     },
     "inputWidgets": {},
     "nuid": "0ac3b566-8902-410b-b413-6187c2c97e48",
     "showTitle": false,
     "title": ""
    }
   },
   "outputs": [],
   "source": [
    "#Eliminar registros que tengan el periodo 20196\n",
    "df_resultados_limp_3 = df_resultados_limp_2.filter(df_resultados_limp_2['PERIODO'] != 20196)\n",
    "display(df_resultados_limp_3)"
   ]
  },
  {
   "cell_type": "code",
   "execution_count": null,
   "metadata": {
    "application/vnd.databricks.v1+cell": {
     "cellMetadata": {
      "byteLimit": 2048000,
      "rowLimit": 10000
     },
     "inputWidgets": {},
     "nuid": "c74faa8c-03bd-4bbd-8a05-2d50e1709089",
     "showTitle": false,
     "title": ""
    }
   },
   "outputs": [],
   "source": [
    "#Convertir periodo al año donde se tomo el examen\n",
    "df_resultados_limp_4 = df_resultados_limp_3.withColumn('AÑO', substring('PERIODO', 1, 4).cast('int'))\n",
    "df_resultados_limp_4 = df_resultados_limp_4.drop(\"PERIODO\")\n",
    "display(df_resultados_limp_4)"
   ]
  },
  {
   "cell_type": "code",
   "execution_count": null,
   "metadata": {
    "application/vnd.databricks.v1+cell": {
     "cellMetadata": {
      "byteLimit": 2048000,
      "rowLimit": 10000
     },
     "inputWidgets": {},
     "nuid": "28f09258-0b62-4b51-a698-e81cdacb9f64",
     "showTitle": false,
     "title": ""
    }
   },
   "outputs": [],
   "source": [
    "#Marcar como nulos aquellos valores que son nulos dentro de las variables categoricas\n",
    "df_resultados_limp_5 = df_resultados_limp_4.withColumn('FAMI_EDUCACIONPADRE', when((df_resultados_limp_4['FAMI_EDUCACIONPADRE'] == 'No sabe') | (df_resultados_limp_4['FAMI_EDUCACIONPADRE'] == 'No aplica'), None).otherwise(df_resultados_limp_4['FAMI_EDUCACIONPADRE']))\n",
    "df_resultados_limp_6 = df_resultados_limp_5.withColumn('FAMI_EDUCACIONMADRE', when((df_resultados_limp_5['FAMI_EDUCACIONMADRE'] == 'No sabe') | (df_resultados_limp_5['FAMI_EDUCACIONMADRE'] == 'No aplica'), None).otherwise(df_resultados_limp_5['FAMI_EDUCACIONMADRE']))"
   ]
  },
  {
   "cell_type": "markdown",
   "metadata": {
    "application/vnd.databricks.v1+cell": {
     "cellMetadata": {
      "byteLimit": 2048000,
      "rowLimit": 10000
     },
     "inputWidgets": {},
     "nuid": "b7815426-3344-4989-a3ac-6286294ccd9b",
     "showTitle": false,
     "title": ""
    }
   },
   "source": [
    "## Reporte de Nulos"
   ]
  },
  {
   "cell_type": "code",
   "execution_count": null,
   "metadata": {
    "application/vnd.databricks.v1+cell": {
     "cellMetadata": {
      "byteLimit": 2048000,
      "rowLimit": 10000
     },
     "inputWidgets": {},
     "nuid": "6d9675c9-0bfc-4811-8c8b-bceb8846c806",
     "showTitle": false,
     "title": ""
    }
   },
   "outputs": [],
   "source": [
    "#Cantidad de valores nulos\n",
    "null_counts = []\n",
    "\n",
    "for column in df_resultados_limp_6.columns:\n",
    "    # Contar los valores nulos en la columna actual\n",
    "    null_count = df_resultados_limp_6.filter(df_resultados_limp_6[column].isNull()).count()\n",
    "    null_counts.append((column, null_count))\n",
    "\n",
    "# Imprimir los recuentos de los valores por columna\n",
    "for column, count in null_counts:\n",
    "    print(f\"Cantidad de valores nulos en la columna '{column}': {count}\")"
   ]
  },
  {
   "cell_type": "code",
   "execution_count": null,
   "metadata": {
    "application/vnd.databricks.v1+cell": {
     "cellMetadata": {
      "byteLimit": 2048000,
      "rowLimit": 10000
     },
     "inputWidgets": {},
     "nuid": "fdc96fcb-c678-447f-bb35-260dd0539101",
     "showTitle": false,
     "title": ""
    }
   },
   "outputs": [],
   "source": [
    "#Proporción de valores nulos\n",
    "null_counts = []\n",
    "\n",
    "for column in df_resultados_limp_6.columns:\n",
    "    # Contar los valores nulos en la columna actual\n",
    "    null_count = df_resultados_limp_6.filter(df_resultados_limp_6[column].isNull()).count()\n",
    "    null_counts.append((column, null_count))\n",
    "\n",
    "# Imprimir los recuentos de los valores por columna\n",
    "for column, count in null_counts:\n",
    "    print(f\"Proporción de valores nulos en la columna '{column}': {count / df_resultados_limp_6.count()}\")"
   ]
  },
  {
   "cell_type": "markdown",
   "metadata": {
    "application/vnd.databricks.v1+cell": {
     "cellMetadata": {
      "byteLimit": 2048000,
      "rowLimit": 10000
     },
     "inputWidgets": {},
     "nuid": "e93b759f-3bb9-46aa-bcd6-ec9bb789013f",
     "showTitle": false,
     "title": ""
    }
   },
   "source": [
    "## Tratamiento de Valores Nulos"
   ]
  },
  {
   "cell_type": "markdown",
   "metadata": {
    "application/vnd.databricks.v1+cell": {
     "cellMetadata": {},
     "inputWidgets": {},
     "nuid": "1ff7edf5-fae5-4c62-bf19-47dc6bc79d1c",
     "showTitle": false,
     "title": ""
    }
   },
   "source": [
    "Teniendo en consideración que los valores nulos no escalan a mas del 10%, para evitar ruido durante el analisis se recomienda eliminar todos los valores nulos"
   ]
  },
  {
   "cell_type": "code",
   "execution_count": null,
   "metadata": {
    "application/vnd.databricks.v1+cell": {
     "cellMetadata": {
      "byteLimit": 2048000,
      "rowLimit": 10000
     },
     "inputWidgets": {},
     "nuid": "30412319-4205-4ea4-aa01-ba4237e4c6a5",
     "showTitle": false,
     "title": ""
    }
   },
   "outputs": [],
   "source": [
    "#Eliminar valores nulos\n",
    "df_resultados_limp_6 = df_resultados_limp_6.na.drop(subset=[\"ESTU_COD_RESIDE_MCPIO\"])\n",
    "df_resultados_limp_6 = df_resultados_limp_6.na.drop(subset=[\"ESTU_HORASSEMANATRABAJA\"])\n",
    "df_resultados_limp_6 = df_resultados_limp_6.na.drop(subset=[\"ESTU_GENERO\"])\n",
    "df_resultados_limp_6 = df_resultados_limp_6.na.drop(subset=[\"FAMI_EDUCACIONPADRE\"])\n",
    "df_resultados_limp_6 = df_resultados_limp_6.na.drop(subset=[\"FAMI_ESTRATOVIVIENDA\"])\n",
    "df_resultados_limp_6 = df_resultados_limp_6.na.drop(subset=[\"FAMI_TIENECOMPUTADOR\"])\n",
    "df_resultados_limp_6 = df_resultados_limp_6.na.drop(subset=[\"FAMI_TIENEINTERNET\"])\n",
    "df_resultados_limp_6 = df_resultados_limp_6.na.drop(subset=[\"FAMI_EDUCACIONMADRE\"])\n",
    "df_resultados_limp_6 = df_resultados_limp_6.na.drop(subset=[\"MOD_COMUNI_ESCRITA_PUNT\"])\n",
    "df_resultados_limp_6 = df_resultados_limp_6.na.drop(subset=[\"MOD_INGLES_PUNT\"])\n"
   ]
  },
  {
   "cell_type": "code",
   "execution_count": null,
   "metadata": {
    "application/vnd.databricks.v1+cell": {
     "cellMetadata": {
      "byteLimit": 2048000,
      "rowLimit": 10000
     },
     "inputWidgets": {},
     "nuid": "f57873ce-47c6-4cfd-9ca5-7f533f0bf043",
     "showTitle": false,
     "title": ""
    }
   },
   "outputs": [],
   "source": [
    "#Cantidad de valores nulos\n",
    "null_counts = []\n",
    "\n",
    "for column in df_resultados_limp_6.columns:\n",
    "    # Contar los valores nulos en la columna actual\n",
    "    null_count = df_resultados_limp_6.filter(df_resultados_limp_6[column].isNull()).count()\n",
    "    null_counts.append((column, null_count))\n",
    "\n",
    "# Imprimir los recuentos de los valores por columna\n",
    "for column, count in null_counts:\n",
    "    print(f\"Cantidad de valores nulos en la columna '{column}': {count}\")\n",
    "\n",
    "print(f\"Cantidad de datos restantes: {df_resultados_limp_6.count()}\")"
   ]
  },
  {
   "cell_type": "markdown",
   "metadata": {
    "application/vnd.databricks.v1+cell": {
     "cellMetadata": {},
     "inputWidgets": {},
     "nuid": "009fc1de-34f6-484a-aa64-b60b5ea13c7e",
     "showTitle": false,
     "title": ""
    }
   },
   "source": [
    "## Transformaciónes de postprocesamiento"
   ]
  },
  {
   "cell_type": "code",
   "execution_count": null,
   "metadata": {
    "application/vnd.databricks.v1+cell": {
     "cellMetadata": {
      "byteLimit": 2048000,
      "rowLimit": 10000
     },
     "inputWidgets": {},
     "nuid": "76e79b94-b3a3-4095-bc39-5a7d592136f8",
     "showTitle": false,
     "title": ""
    }
   },
   "outputs": [],
   "source": [
    "df_resultados_limp_6.dtypes"
   ]
  },
  {
   "cell_type": "markdown",
   "metadata": {
    "application/vnd.databricks.v1+cell": {
     "cellMetadata": {},
     "inputWidgets": {},
     "nuid": "97d18c8c-b39b-4bbb-b715-7944ba81403f",
     "showTitle": false,
     "title": ""
    }
   },
   "source": [
    "### One hot encoding"
   ]
  },
  {
   "cell_type": "code",
   "execution_count": null,
   "metadata": {
    "application/vnd.databricks.v1+cell": {
     "cellMetadata": {
      "byteLimit": 2048000,
      "rowLimit": 10000
     },
     "inputWidgets": {},
     "nuid": "7c044c80-439f-48c0-ac8d-f7630028f2e2",
     "showTitle": false,
     "title": ""
    }
   },
   "outputs": [],
   "source": [
    "from pyspark.ml.feature import OneHotEncoder, StringIndexer\n",
    "from pyspark.ml import Pipeline\n",
    "\n",
    "string_cols = [col for col, dtype in df_resultados_limp_6.dtypes if dtype == 'string'] #Seleccionar columnas que no sean numericas\n",
    "\n",
    "indexers = [StringIndexer(inputCol=c, outputCol=c+\"_ENC\").fit(df_resultados_limp_6) for c in string_cols]\n",
    "encoder = OneHotEncoder(inputCols=[indexer.getOutputCol() for indexer in indexers],\n",
    "                        outputCols=[f\"{c}_onehot\" for c in string_cols])\n",
    "\n",
    "pipeline = Pipeline(stages=indexers + [encoder])\n",
    "df_encoded = pipeline.fit(df_resultados_limp_6).transform(df_resultados_limp_6)\n",
    "display(df_encoded)"
   ]
  },
  {
   "cell_type": "code",
   "execution_count": null,
   "metadata": {
    "application/vnd.databricks.v1+cell": {
     "cellMetadata": {
      "byteLimit": 2048000,
      "rowLimit": 10000
     },
     "inputWidgets": {},
     "nuid": "2756dc8c-b171-44f7-9190-f74fb15cf5c5",
     "showTitle": false,
     "title": ""
    }
   },
   "outputs": [],
   "source": [
    "df_encoded.dtypes"
   ]
  },
  {
   "cell_type": "code",
   "execution_count": null,
   "metadata": {
    "application/vnd.databricks.v1+cell": {
     "cellMetadata": {
      "byteLimit": 2048000,
      "rowLimit": 10000
     },
     "inputWidgets": {},
     "nuid": "bac87858-2a9f-4353-8601-657d3f3835d6",
     "showTitle": false,
     "title": ""
    }
   },
   "outputs": [],
   "source": [
    "string_cols = ['ESTU_NUCLEO_PREGRADO','ESTU_PRGM_ACADEMICO','ESTU_METODO_PRGM','ESTU_HORASSEMANATRABAJA','ESTU_GENERO','FAMI_EDUCACIONPADRE','FAMI_ESTRATOVIVIENDA','FAMI_TIENECOMPUTADOR','FAMI_TIENEINTERNET','FAMI_EDUCACIONMADRE','ESTU_PAIS_RESIDE','ESTU_PAIS_RESIDE_onehot','ESTU_NUCLEO_PREGRADO_onehot','ESTU_PRGM_ACADEMICO_onehot','ESTU_METODO_PRGM_onehot','ESTU_HORASSEMANATRABAJA_onehot','ESTU_GENERO_onehot','FAMI_EDUCACIONPADRE_onehot','FAMI_ESTRATOVIVIENDA_onehot','FAMI_TIENECOMPUTADOR_onehot','FAMI_TIENEINTERNET_onehot','FAMI_EDUCACIONMADRE_onehot']\n",
    "df_final = df_encoded.select(*[c for c in df_encoded.columns if c not in string_cols])\n",
    "display(df_final)"
   ]
  }
 ],
 "metadata": {
  "application/vnd.databricks.v1+notebook": {
   "dashboards": [],
   "language": "python",
   "notebookMetadata": {
    "mostRecentlyExecutedCommandWithImplicitDF": {
     "commandId": 1624322646567049,
     "dataframes": [
      "_sqldf"
     ]
    },
    "pythonIndentUnit": 4
   },
   "notebookName": "EDA_Resultados_SABER_PRO",
   "widgets": {}
  },
  "language_info": {
   "name": "python"
  }
 },
 "nbformat": 4,
 "nbformat_minor": 0
}
